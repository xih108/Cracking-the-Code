{
 "cells": [
  {
   "cell_type": "markdown",
   "metadata": {},
   "source": [
    "### 2.1 Remove Dups: Write code to remove duplicates from an unsorted linked list. FOLLOW UP How would you solve this problem if a temporary buffer is not allowed?"
   ]
  },
  {
   "cell_type": "code",
   "execution_count": 1,
   "metadata": {},
   "outputs": [],
   "source": [
    "class Node:\n",
    "    def __init__(self, data, next = None):\n",
    "        self.data = data\n",
    "        self.next = next\n",
    "    \n",
    "    def __str__(self):\n",
    "        return str(self.data)"
   ]
  },
  {
   "cell_type": "code",
   "execution_count": 2,
   "metadata": {},
   "outputs": [],
   "source": [
    "def print_list(head):\n",
    "    curr = head\n",
    "    while(curr):\n",
    "        print(curr.data)\n",
    "        curr = curr.next"
   ]
  },
  {
   "cell_type": "code",
   "execution_count": 3,
   "metadata": {},
   "outputs": [],
   "source": [
    "def removeDup(head):\n",
    "    set1 = set()\n",
    "    curr = head\n",
    "    while (curr):\n",
    "        if curr.data in set1:\n",
    "            prev.next = curr.next\n",
    "        else:\n",
    "            set1.add(curr.data)\n",
    "            prev = curr\n",
    "        curr = curr.next\n",
    "    print_list(head)  "
   ]
  },
  {
   "cell_type": "code",
   "execution_count": 4,
   "metadata": {},
   "outputs": [],
   "source": [
    "removeDup(None)"
   ]
  },
  {
   "cell_type": "code",
   "execution_count": 5,
   "metadata": {},
   "outputs": [],
   "source": [
    "n1 = Node(1)\n",
    "n2 = Node(1)\n",
    "n3 = Node(1)\n",
    "n4 = Node(1)\n",
    "n1.next = n2\n",
    "n2.next = n3\n",
    "n3.next = n4"
   ]
  },
  {
   "cell_type": "code",
   "execution_count": 6,
   "metadata": {},
   "outputs": [
    {
     "name": "stdout",
     "output_type": "stream",
     "text": [
      "1\n"
     ]
    }
   ],
   "source": [
    "removeDup(n1)"
   ]
  },
  {
   "cell_type": "markdown",
   "metadata": {},
   "source": [
    "Time complexity: O(N)"
   ]
  },
  {
   "cell_type": "markdown",
   "metadata": {},
   "source": [
    "### Follow Up: No buffer allowed"
   ]
  },
  {
   "cell_type": "code",
   "execution_count": 7,
   "metadata": {},
   "outputs": [],
   "source": [
    "def removeDup1(head):\n",
    "    curr1 = head\n",
    "    curr2 = head\n",
    "    while (curr1):\n",
    "        curr2 = curr1.next\n",
    "        prev = curr1\n",
    "        while (curr2):\n",
    "            if curr1.data == curr2.data:\n",
    "                prev.next = curr2.next\n",
    "            else:\n",
    "                prev = curr2\n",
    "            curr2 = curr2.next\n",
    "        curr1 = curr1.next\n",
    "    print_list(head)"
   ]
  },
  {
   "cell_type": "code",
   "execution_count": 8,
   "metadata": {},
   "outputs": [],
   "source": [
    "removeDup1(None)"
   ]
  },
  {
   "cell_type": "code",
   "execution_count": 9,
   "metadata": {},
   "outputs": [],
   "source": [
    "n1 = Node(3)\n",
    "n2 = Node(4)\n",
    "n3 = Node(3)\n",
    "n4 = Node(4)\n",
    "n1.next = n2\n",
    "n2.next = n3\n",
    "n3.next = n4"
   ]
  },
  {
   "cell_type": "code",
   "execution_count": 10,
   "metadata": {},
   "outputs": [
    {
     "name": "stdout",
     "output_type": "stream",
     "text": [
      "3\n",
      "4\n"
     ]
    }
   ],
   "source": [
    "removeDup1(n1)"
   ]
  },
  {
   "cell_type": "markdown",
   "metadata": {},
   "source": [
    "Time complexity: O(N) Space complexity: O(1)"
   ]
  },
  {
   "cell_type": "markdown",
   "metadata": {},
   "source": [
    "### 2.2 Return Kth to Last: Implement an algorithm to find the kth to last element of a singly linked list."
   ]
  },
  {
   "cell_type": "code",
   "execution_count": 11,
   "metadata": {},
   "outputs": [],
   "source": [
    "def Kth(head,k):\n",
    "    curr1 = head\n",
    "    for i in range(k):\n",
    "        if curr1:\n",
    "            curr1 = curr1.next\n",
    "        else:\n",
    "            return None\n",
    "    \n",
    "    curr2 = head\n",
    "    while curr1:\n",
    "        curr2 = curr2.next\n",
    "        curr1 = curr1.next\n",
    "    return curr2"
   ]
  },
  {
   "cell_type": "code",
   "execution_count": 12,
   "metadata": {},
   "outputs": [
    {
     "name": "stdout",
     "output_type": "stream",
     "text": [
      "None\n"
     ]
    }
   ],
   "source": [
    "print(Kth(None,2))"
   ]
  },
  {
   "cell_type": "code",
   "execution_count": 13,
   "metadata": {},
   "outputs": [],
   "source": [
    "n1 = Node(1)\n",
    "n2 = Node(2)\n",
    "n3 = Node(3)\n",
    "n4 = Node(4)\n",
    "n5 = Node(5)\n",
    "n1.next = n2\n",
    "n2.next = n3\n",
    "n3.next = n4\n",
    "n4.next = n5"
   ]
  },
  {
   "cell_type": "code",
   "execution_count": 14,
   "metadata": {},
   "outputs": [
    {
     "name": "stdout",
     "output_type": "stream",
     "text": [
      "3\n"
     ]
    }
   ],
   "source": [
    "print(Kth(n1,3))"
   ]
  },
  {
   "cell_type": "code",
   "execution_count": 15,
   "metadata": {},
   "outputs": [
    {
     "name": "stdout",
     "output_type": "stream",
     "text": [
      "5\n"
     ]
    }
   ],
   "source": [
    "print(Kth(n1,1))"
   ]
  },
  {
   "cell_type": "code",
   "execution_count": 16,
   "metadata": {},
   "outputs": [
    {
     "name": "stdout",
     "output_type": "stream",
     "text": [
      "1\n"
     ]
    }
   ],
   "source": [
    "print(Kth(n1,5))"
   ]
  },
  {
   "cell_type": "code",
   "execution_count": 17,
   "metadata": {},
   "outputs": [
    {
     "name": "stdout",
     "output_type": "stream",
     "text": [
      "None\n"
     ]
    }
   ],
   "source": [
    "print(Kth(n1,6))"
   ]
  },
  {
   "cell_type": "markdown",
   "metadata": {},
   "source": [
    "Time complexity: O(N) Space complexity: O(1)"
   ]
  },
  {
   "cell_type": "markdown",
   "metadata": {},
   "source": [
    "### 2.3 Delete Middle Node: Implement an algorithm to delete a node in the middle (Le., any node but the first and last node, not necessarily the exact middle) of a singly linked list, given only access to that node.\n",
    "### EXAMPLE\n",
    "### Input: the node c from the linked list a - >b- >c - >d - >e- >f\n",
    "### Result: nothing is returned, but the new linked list looks like a->b->d->e->f"
   ]
  },
  {
   "cell_type": "code",
   "execution_count": 18,
   "metadata": {},
   "outputs": [],
   "source": [
    "def deleteMiddle(node):\n",
    "    if not node or not node.next:\n",
    "        return False\n",
    "    node.data = node.next.data\n",
    "    node.next = node.next.next\n",
    "    return True"
   ]
  },
  {
   "cell_type": "code",
   "execution_count": 19,
   "metadata": {},
   "outputs": [],
   "source": [
    "n1 = Node(1)\n",
    "n2 = Node(2)\n",
    "n3 = Node(3)\n",
    "n4 = Node(4)\n",
    "n5 = Node(5)\n",
    "n1.next = n2\n",
    "n2.next = n3\n",
    "n3.next = n4\n",
    "n4.next = n5"
   ]
  },
  {
   "cell_type": "code",
   "execution_count": 20,
   "metadata": {},
   "outputs": [
    {
     "name": "stdout",
     "output_type": "stream",
     "text": [
      "1\n",
      "3\n",
      "4\n",
      "5\n"
     ]
    }
   ],
   "source": [
    "deleteMiddle(n2)\n",
    "print_list(n1)"
   ]
  },
  {
   "cell_type": "code",
   "execution_count": 21,
   "metadata": {},
   "outputs": [
    {
     "data": {
      "text/plain": [
       "False"
      ]
     },
     "execution_count": 21,
     "metadata": {},
     "output_type": "execute_result"
    }
   ],
   "source": [
    "deleteMiddle(n5)"
   ]
  },
  {
   "cell_type": "code",
   "execution_count": 22,
   "metadata": {},
   "outputs": [
    {
     "data": {
      "text/plain": [
       "False"
      ]
     },
     "execution_count": 22,
     "metadata": {},
     "output_type": "execute_result"
    }
   ],
   "source": [
    "deleteMiddle(None)"
   ]
  },
  {
   "cell_type": "markdown",
   "metadata": {},
   "source": [
    "Algorithm: Copy the next data to the current node, then delete the next node"
   ]
  },
  {
   "cell_type": "markdown",
   "metadata": {},
   "source": [
    "Time complexity: O(1)"
   ]
  },
  {
   "cell_type": "markdown",
   "metadata": {},
   "source": [
    "### 2.4 Partition: Write code to partition a linked list around a value x, such that all nodes less than x come before all nodes greater than or equal to x. If x is contained within the list, the values of x only need to be after the elements less than x (see below). The partition element x can appear anywhere in the \"right partition\"; it does not need to appear between the left and right partitions.\n",
    "### EXAMPLE\n",
    "### Input: 3 -> 5 -> 8 -> 5 -> 113 -> 2 -> 1 [partition = 5]\n",
    "### Output: 3 -> 1 -> 2 -> 113 -> 5 -> 5 -> 8"
   ]
  },
  {
   "cell_type": "code",
   "execution_count": 23,
   "metadata": {},
   "outputs": [],
   "source": [
    "def partition(head, x):\n",
    "    curr = head\n",
    "    while (curr.next):\n",
    "        if (curr.next.data <x):\n",
    "            temp = curr.next\n",
    "            curr.next = curr.next.next\n",
    "            temp.next = head\n",
    "            head = temp\n",
    "        else:\n",
    "            curr = curr.next\n",
    "    print_list(head)\n",
    "    return head"
   ]
  },
  {
   "cell_type": "code",
   "execution_count": 24,
   "metadata": {},
   "outputs": [],
   "source": [
    "n1 = Node(3)\n",
    "n2 = Node(5)\n",
    "n3 = Node(8)\n",
    "n4 = Node(5)\n",
    "n5 = Node(113)\n",
    "n6 = Node(2)\n",
    "n7 = Node(1)\n",
    "n1.next = n2\n",
    "n2.next = n3\n",
    "n3.next = n4\n",
    "n4.next = n5\n",
    "n5.next = n6\n",
    "n6.next = n7"
   ]
  },
  {
   "cell_type": "code",
   "execution_count": 25,
   "metadata": {},
   "outputs": [
    {
     "name": "stdout",
     "output_type": "stream",
     "text": [
      "1\n",
      "2\n",
      "3\n",
      "5\n",
      "8\n",
      "5\n",
      "113\n"
     ]
    },
    {
     "data": {
      "text/plain": [
       "<__main__.Node at 0x13a7604aac8>"
      ]
     },
     "execution_count": 25,
     "metadata": {},
     "output_type": "execute_result"
    }
   ],
   "source": [
    "partition(n1, 5)"
   ]
  },
  {
   "cell_type": "code",
   "execution_count": 26,
   "metadata": {},
   "outputs": [],
   "source": [
    "n1 = Node(3)\n",
    "n2 = Node(5)\n",
    "n3 = Node(8)\n",
    "n4 = Node(5)\n",
    "n5 = Node(113)\n",
    "n6 = Node(2)\n",
    "n7 = Node(1)\n",
    "n1.next = n2\n",
    "n2.next = n3\n",
    "n3.next = n4\n",
    "n4.next = n5\n",
    "n5.next = n6\n",
    "n6.next = n7"
   ]
  },
  {
   "cell_type": "code",
   "execution_count": 27,
   "metadata": {},
   "outputs": [
    {
     "name": "stdout",
     "output_type": "stream",
     "text": [
      "1\n",
      "3\n",
      "5\n",
      "8\n",
      "5\n",
      "113\n",
      "2\n"
     ]
    },
    {
     "data": {
      "text/plain": [
       "<__main__.Node at 0x13a76069cf8>"
      ]
     },
     "execution_count": 27,
     "metadata": {},
     "output_type": "execute_result"
    }
   ],
   "source": [
    "partition(n1, 2)"
   ]
  },
  {
   "cell_type": "markdown",
   "metadata": {},
   "source": [
    "Time complexity: O(N)"
   ]
  },
  {
   "cell_type": "markdown",
   "metadata": {},
   "source": [
    "### 2.5 Sum Lists: You have two numbers represented by a linked list, where each node contains a single digit. The digits are stored in reverse order, such that the 1's digit is at the head of the list. Write a function that adds the two numbers and returns the sum as a linked list.\n",
    "### EXAMPLE\n",
    "### Input: (7-> 1 -> 6) + (5 -> 9 -> 2) .Thatis,617 + 295.\n",
    "### Output: 2 - > 1 - > 9.That is, 912"
   ]
  },
  {
   "cell_type": "code",
   "execution_count": 28,
   "metadata": {},
   "outputs": [],
   "source": [
    "def sumList(l1,l2):\n",
    "    if (not l1 and not l2):\n",
    "        return None\n",
    "    \n",
    "    if (not l1):\n",
    "        print_list(l2)\n",
    "        return l2\n",
    "        \n",
    "    head = l1\n",
    "    prev = None\n",
    "    carry = 0\n",
    "    while (l1 and l2):\n",
    "        sum = carry + l1.data + l2.data\n",
    "        l1.data = sum % 10\n",
    "        carry = int(sum/10)\n",
    "        prev = l1\n",
    "        l1 = l1.next\n",
    "        l2 = l2.next\n",
    "    \n",
    "    if l2:\n",
    "        prev.next = l2\n",
    "        l1 = l2\n",
    "        \n",
    "    while (l1):\n",
    "        sum = carry + l1.data\n",
    "        l1.data = sum % 10\n",
    "        carry = int(sum/10)\n",
    "        l1 = l1.next\n",
    "    print_list(head)\n",
    "    return head"
   ]
  },
  {
   "cell_type": "code",
   "execution_count": 29,
   "metadata": {},
   "outputs": [],
   "source": [
    "n1 = Node(7)\n",
    "n2 = Node(1)\n",
    "n3 = Node(6)\n",
    "n4 = Node(5)\n",
    "n5 = Node(9)\n",
    "n6 = Node(2)\n",
    "n1.next = n2\n",
    "n2.next = n3\n",
    "\n",
    "n4.next = n5\n",
    "n5.next = n6"
   ]
  },
  {
   "cell_type": "code",
   "execution_count": 30,
   "metadata": {},
   "outputs": [
    {
     "name": "stdout",
     "output_type": "stream",
     "text": [
      "2\n",
      "1\n",
      "9\n"
     ]
    },
    {
     "data": {
      "text/plain": [
       "<__main__.Node at 0x13a7604ae48>"
      ]
     },
     "execution_count": 30,
     "metadata": {},
     "output_type": "execute_result"
    }
   ],
   "source": [
    "sumList(n1,n4)"
   ]
  },
  {
   "cell_type": "code",
   "execution_count": 31,
   "metadata": {},
   "outputs": [
    {
     "name": "stdout",
     "output_type": "stream",
     "text": [
      "7\n",
      "1\n",
      "6\n"
     ]
    },
    {
     "data": {
      "text/plain": [
       "<__main__.Node at 0x13a7605bc50>"
      ]
     },
     "execution_count": 31,
     "metadata": {},
     "output_type": "execute_result"
    }
   ],
   "source": [
    "n1 = Node(7)\n",
    "n2 = Node(1)\n",
    "n3 = Node(6)\n",
    "n1.next = n2\n",
    "n2.next = n3\n",
    "sumList(n1,None)"
   ]
  },
  {
   "cell_type": "code",
   "execution_count": 32,
   "metadata": {},
   "outputs": [
    {
     "name": "stdout",
     "output_type": "stream",
     "text": [
      "1\n",
      "6\n"
     ]
    },
    {
     "data": {
      "text/plain": [
       "<__main__.Node at 0x13a7605ba58>"
      ]
     },
     "execution_count": 32,
     "metadata": {},
     "output_type": "execute_result"
    }
   ],
   "source": [
    "n1 = Node(7)\n",
    "n2 = Node(1)\n",
    "n3 = Node(6)\n",
    "n1.next = n2\n",
    "n2.next = n3\n",
    "sumList(None,n2)"
   ]
  },
  {
   "cell_type": "code",
   "execution_count": 33,
   "metadata": {},
   "outputs": [
    {
     "name": "stdout",
     "output_type": "stream",
     "text": [
      "5\n",
      "7\n",
      "7\n"
     ]
    },
    {
     "data": {
      "text/plain": [
       "<__main__.Node at 0x13a76063e48>"
      ]
     },
     "execution_count": 33,
     "metadata": {},
     "output_type": "execute_result"
    }
   ],
   "source": [
    "n1 = Node(7)\n",
    "n2 = Node(8)\n",
    "n3 = Node(6)\n",
    "n4 = Node(7)\n",
    "n2.next = n3\n",
    "n3.next = n4\n",
    "sumList(n1,n2)"
   ]
  },
  {
   "cell_type": "markdown",
   "metadata": {},
   "source": [
    "Time complexity: O(N)"
   ]
  },
  {
   "cell_type": "markdown",
   "metadata": {},
   "source": [
    "### 2.6 Palindrome: Implement a function to check if a linked list is a palindrome."
   ]
  },
  {
   "cell_type": "markdown",
   "metadata": {},
   "source": [
    "<li>考虑linkedlist为空</li>"
   ]
  },
  {
   "cell_type": "code",
   "execution_count": 34,
   "metadata": {},
   "outputs": [],
   "source": [
    "def palindrome(linklist):\n",
    "    list1 = []\n",
    "    if (not linklist):\n",
    "        return True\n",
    "    curr = linklist\n",
    "    while(curr):\n",
    "        list1 += [curr.data]\n",
    "        curr = curr.next\n",
    "    length = len(list1)\n",
    "    #check from the head , from the tail(reverse order)\n",
    "    return list1[:int(length/2)] == list1[-1:-int(length/2)-1:-1]"
   ]
  },
  {
   "cell_type": "code",
   "execution_count": 35,
   "metadata": {},
   "outputs": [
    {
     "data": {
      "text/plain": [
       "True"
      ]
     },
     "execution_count": 35,
     "metadata": {},
     "output_type": "execute_result"
    }
   ],
   "source": [
    "palindrome(None)"
   ]
  },
  {
   "cell_type": "code",
   "execution_count": 36,
   "metadata": {},
   "outputs": [
    {
     "data": {
      "text/plain": [
       "True"
      ]
     },
     "execution_count": 36,
     "metadata": {},
     "output_type": "execute_result"
    }
   ],
   "source": [
    "n1 = Node(7)\n",
    "n2 = Node(8)\n",
    "n3 = Node(8)\n",
    "n4 = Node(7)\n",
    "n1.next = n2\n",
    "n2.next = n3\n",
    "n3.next = n4\n",
    "palindrome(n1)"
   ]
  },
  {
   "cell_type": "code",
   "execution_count": 37,
   "metadata": {},
   "outputs": [
    {
     "data": {
      "text/plain": [
       "False"
      ]
     },
     "execution_count": 37,
     "metadata": {},
     "output_type": "execute_result"
    }
   ],
   "source": [
    "palindrome(n2)"
   ]
  },
  {
   "cell_type": "code",
   "execution_count": 38,
   "metadata": {},
   "outputs": [
    {
     "data": {
      "text/plain": [
       "False"
      ]
     },
     "execution_count": 38,
     "metadata": {},
     "output_type": "execute_result"
    }
   ],
   "source": [
    "n1 = Node(7)\n",
    "n2 = Node(9)\n",
    "n3 = Node(8)\n",
    "n4 = Node(9)\n",
    "n5 = Node(7)\n",
    "n6 = Node(9)\n",
    "n7 = Node(7)\n",
    "n1.next = n2\n",
    "n2.next = n3\n",
    "n3.next = n4\n",
    "n4.next = n5\n",
    "n5.next = n6\n",
    "n6.next = n7\n",
    "palindrome(n1)"
   ]
  },
  {
   "cell_type": "code",
   "execution_count": 39,
   "metadata": {},
   "outputs": [
    {
     "data": {
      "text/plain": [
       "False"
      ]
     },
     "execution_count": 39,
     "metadata": {},
     "output_type": "execute_result"
    }
   ],
   "source": [
    "palindrome(n2)"
   ]
  },
  {
   "cell_type": "code",
   "execution_count": 40,
   "metadata": {},
   "outputs": [
    {
     "data": {
      "text/plain": [
       "False"
      ]
     },
     "execution_count": 40,
     "metadata": {},
     "output_type": "execute_result"
    }
   ],
   "source": [
    "palindrome(n3)"
   ]
  },
  {
   "cell_type": "code",
   "execution_count": 41,
   "metadata": {},
   "outputs": [
    {
     "data": {
      "text/plain": [
       "True"
      ]
     },
     "execution_count": 41,
     "metadata": {},
     "output_type": "execute_result"
    }
   ],
   "source": [
    "palindrome(n7)"
   ]
  },
  {
   "cell_type": "markdown",
   "metadata": {},
   "source": [
    "Time complexity: O(N) Space complexity: O(N)"
   ]
  },
  {
   "cell_type": "markdown",
   "metadata": {},
   "source": [
    "### 2.7 Intersection: Given two (singly) linked lists, determine if the two lists intersect. Return theintersecting node. Note that the intersection is defined based on reference, not value. That is, if the kth node of the first linked list is the exact same node (by reference) as the jth node of the second linked list, then they are intersecting.\n"
   ]
  },
  {
   "cell_type": "code",
   "execution_count": 42,
   "metadata": {},
   "outputs": [],
   "source": [
    "def intersect(l1, l2):\n",
    "    len1 = 0\n",
    "    len2 = 0\n",
    "    curr1 = l1\n",
    "    curr2 = l2\n",
    "    while (curr1):\n",
    "        curr1 = curr1.next\n",
    "        len1 += 1\n",
    "    while (curr2):\n",
    "        curr2 = curr2.next\n",
    "        len2 += 1\n",
    "    curr1 = l1\n",
    "    curr2 = l2\n",
    "    if (len1 < len2):\n",
    "        for i in range(len2-len1):\n",
    "            curr2 = curr2.next\n",
    "    else:\n",
    "        for i in range(len1-len2):\n",
    "            curr1 = curr1.next\n",
    "    while (curr1 and curr2):\n",
    "        if (curr1 == curr2):\n",
    "            return curr1\n",
    "        else:\n",
    "            curr1 = curr1.next\n",
    "            curr2 = curr2.next\n",
    "    return None"
   ]
  },
  {
   "cell_type": "code",
   "execution_count": 43,
   "metadata": {},
   "outputs": [],
   "source": [
    "intersect(None,None)"
   ]
  },
  {
   "cell_type": "code",
   "execution_count": 44,
   "metadata": {},
   "outputs": [
    {
     "name": "stdout",
     "output_type": "stream",
     "text": [
      "7\n"
     ]
    },
    {
     "data": {
      "text/plain": [
       "<__main__.Node at 0x13a7607bf28>"
      ]
     },
     "execution_count": 44,
     "metadata": {},
     "output_type": "execute_result"
    }
   ],
   "source": [
    "n1 = Node(7)\n",
    "n2 = Node(8)\n",
    "print(intersect(n1,n1))\n",
    "intersect(n1,n1)"
   ]
  },
  {
   "cell_type": "code",
   "execution_count": 45,
   "metadata": {},
   "outputs": [],
   "source": [
    "intersect(n1,n2)"
   ]
  },
  {
   "cell_type": "code",
   "execution_count": 46,
   "metadata": {},
   "outputs": [
    {
     "name": "stdout",
     "output_type": "stream",
     "text": [
      "7\n",
      "9\n",
      "9\n",
      "7\n",
      "9\n",
      "7\n"
     ]
    }
   ],
   "source": [
    "n1 = Node(7)\n",
    "n2 = Node(9)\n",
    "n3 = Node(8)\n",
    "n4 = Node(9)\n",
    "n5 = Node(7)\n",
    "n6 = Node(9)\n",
    "n7 = Node(7)\n",
    "n1.next = n2\n",
    "n2.next = n4\n",
    "n3.next = n4\n",
    "n4.next = n5\n",
    "n5.next = n6\n",
    "n6.next = n7\n",
    "print_list(n1)"
   ]
  },
  {
   "cell_type": "code",
   "execution_count": 47,
   "metadata": {},
   "outputs": [
    {
     "name": "stdout",
     "output_type": "stream",
     "text": [
      "8\n",
      "9\n",
      "7\n",
      "9\n",
      "7\n"
     ]
    }
   ],
   "source": [
    "print_list(n3)"
   ]
  },
  {
   "cell_type": "code",
   "execution_count": 48,
   "metadata": {},
   "outputs": [
    {
     "name": "stdout",
     "output_type": "stream",
     "text": [
      "9\n"
     ]
    },
    {
     "data": {
      "text/plain": [
       "<__main__.Node at 0x13a7607beb8>"
      ]
     },
     "execution_count": 48,
     "metadata": {},
     "output_type": "execute_result"
    }
   ],
   "source": [
    "print(intersect(n1,n3))\n",
    "intersect(n1,n3)"
   ]
  },
  {
   "cell_type": "markdown",
   "metadata": {},
   "source": [
    "Time complexity: O(A+B) A,B are length of l1,l2 Space Complexity: O(N)"
   ]
  },
  {
   "cell_type": "markdown",
   "metadata": {},
   "source": [
    "### 2.8 Loop Detection: Given a circular linked list, implement an algorithm that returns the node at the beginning of the loop.\n",
    "### DEFINITION\n",
    "### Circular linked list: A (corrupt) linked list in which a node's next pointer points to an earlier node, so as to make a loop in the linked list.\n",
    "### EXAMPLE\n",
    "### Input: A - > B - > C - > D - > E - > C [the same C as earlier)\n",
    "### Output: C"
   ]
  },
  {
   "cell_type": "code",
   "execution_count": 64,
   "metadata": {},
   "outputs": [],
   "source": [
    "def loop(linklist):\n",
    "    fast = linklist\n",
    "    slow = linklist\n",
    "    while (fast and fast.next):\n",
    "        fast = fast.next.next\n",
    "        slow = slow.next\n",
    "        if (fast == slow):\n",
    "            slow = linklist\n",
    "            break\n",
    "    \n",
    "    if (not fast or not fast.next):\n",
    "        return None\n",
    "    \n",
    "    while (fast != slow):\n",
    "        fast = fast.next\n",
    "        slow = slow.next\n",
    "        \n",
    "    return fast\n",
    "        "
   ]
  },
  {
   "cell_type": "code",
   "execution_count": 65,
   "metadata": {},
   "outputs": [
    {
     "name": "stdout",
     "output_type": "stream",
     "text": [
      "8\n"
     ]
    }
   ],
   "source": [
    "n1 = Node(1)\n",
    "n2 = Node(9)\n",
    "n3 = Node(8)\n",
    "n4 = Node(9)\n",
    "n5 = Node(7)\n",
    "\n",
    "n1.next = n2\n",
    "n2.next = n3\n",
    "n3.next = n4\n",
    "n4.next = n5\n",
    "n5.next = n3\n",
    "print(loop(n1))"
   ]
  },
  {
   "cell_type": "code",
   "execution_count": 66,
   "metadata": {},
   "outputs": [
    {
     "name": "stdout",
     "output_type": "stream",
     "text": [
      "None\n"
     ]
    }
   ],
   "source": [
    "n1 = Node(1)\n",
    "n2 = Node(9)\n",
    "n3 = Node(8)\n",
    "n4 = Node(9)\n",
    "n5 = Node(7)\n",
    "\n",
    "n1.next = n2\n",
    "n2.next = n3\n",
    "n3.next = n4\n",
    "n4.next = n5\n",
    "\n",
    "print(loop(n1))"
   ]
  },
  {
   "cell_type": "markdown",
   "metadata": {},
   "source": [
    "Time complexity: O(N) Space complexity: O(1)"
   ]
  },
  {
   "cell_type": "markdown",
   "metadata": {},
   "source": [
    "p.s. fast moves twice as fast as slow, when they collide, they and the head both have the same distance to the loop start. So move one of them to the head, then move at the same pace(1 node) until they collide at the start of the loop."
   ]
  },
  {
   "cell_type": "code",
   "execution_count": null,
   "metadata": {},
   "outputs": [],
   "source": []
  }
 ],
 "metadata": {
  "kernelspec": {
   "display_name": "Python 3",
   "language": "python",
   "name": "python3"
  },
  "language_info": {
   "codemirror_mode": {
    "name": "ipython",
    "version": 3
   },
   "file_extension": ".py",
   "mimetype": "text/x-python",
   "name": "python",
   "nbconvert_exporter": "python",
   "pygments_lexer": "ipython3",
   "version": "3.7.3"
  }
 },
 "nbformat": 4,
 "nbformat_minor": 2
}
